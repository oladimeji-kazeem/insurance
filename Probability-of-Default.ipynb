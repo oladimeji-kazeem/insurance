{
 "cells": [
  {
   "cell_type": "code",
   "execution_count": 1,
   "id": "e3912936-0571-4315-a6e9-3c8af9bf0c1f",
   "metadata": {},
   "outputs": [],
   "source": [
    "# Importing necessary libraries\n",
    "import os\n",
    "import joblib\n",
    "import pandas as pd\n",
    "import numpy as np\n",
    "from sklearn.model_selection import train_test_split, cross_val_score\n",
    "from sklearn.metrics import accuracy_score, roc_auc_score, precision_score, recall_score\n",
    "from sklearn.linear_model import LogisticRegression\n",
    "from sklearn.ensemble import RandomForestClassifier, GradientBoostingClassifier\n",
    "from sklearn.svm import SVC\n",
    "from sklearn.neighbors import KNeighborsClassifier\n",
    "from sklearn.preprocessing import StandardScaler\n",
    "from sklearn.preprocessing import LabelEncoder, OneHotEncoder"
   ]
  },
  {
   "cell_type": "code",
   "execution_count": 2,
   "id": "ff262520-3de0-46c1-b5e4-125ca1885f2d",
   "metadata": {},
   "outputs": [],
   "source": [
    "df = pd.read_csv('data/credit_risk1.csv')"
   ]
  },
  {
   "cell_type": "code",
   "execution_count": 3,
   "id": "4b794478-5a3f-4096-940d-958707a82211",
   "metadata": {},
   "outputs": [
    {
     "data": {
      "text/html": [
       "<div>\n",
       "<style scoped>\n",
       "    .dataframe tbody tr th:only-of-type {\n",
       "        vertical-align: middle;\n",
       "    }\n",
       "\n",
       "    .dataframe tbody tr th {\n",
       "        vertical-align: top;\n",
       "    }\n",
       "\n",
       "    .dataframe thead th {\n",
       "        text-align: right;\n",
       "    }\n",
       "</style>\n",
       "<table border=\"1\" class=\"dataframe\">\n",
       "  <thead>\n",
       "    <tr style=\"text-align: right;\">\n",
       "      <th></th>\n",
       "      <th>borrower_id</th>\n",
       "      <th>income</th>\n",
       "      <th>employment_status</th>\n",
       "      <th>credit_score</th>\n",
       "      <th>debt_to_income_ratio</th>\n",
       "      <th>loan_amount_requested</th>\n",
       "      <th>age</th>\n",
       "      <th>education_level</th>\n",
       "      <th>marital_status</th>\n",
       "      <th>num_of_credit_inquiries</th>\n",
       "      <th>...</th>\n",
       "      <th>loan_type</th>\n",
       "      <th>loan_amount</th>\n",
       "      <th>interest_rate</th>\n",
       "      <th>loan_term</th>\n",
       "      <th>collateral_value</th>\n",
       "      <th>loan_to_value_ratio</th>\n",
       "      <th>repayment_schedule</th>\n",
       "      <th>current_balance</th>\n",
       "      <th>num_of_late_payments</th>\n",
       "      <th>loan_default</th>\n",
       "    </tr>\n",
       "  </thead>\n",
       "  <tbody>\n",
       "    <tr>\n",
       "      <th>0</th>\n",
       "      <td>1</td>\n",
       "      <td>57450.71230</td>\n",
       "      <td>Self-employed</td>\n",
       "      <td>342</td>\n",
       "      <td>0.311864</td>\n",
       "      <td>30208.015810</td>\n",
       "      <td>69</td>\n",
       "      <td>Bachelor's</td>\n",
       "      <td>Divorced</td>\n",
       "      <td>7</td>\n",
       "      <td>...</td>\n",
       "      <td>Auto</td>\n",
       "      <td>4380.510427</td>\n",
       "      <td>3.038261</td>\n",
       "      <td>284</td>\n",
       "      <td>47643.939280</td>\n",
       "      <td>0.889981</td>\n",
       "      <td>Quarterly</td>\n",
       "      <td>46676.21564</td>\n",
       "      <td>3</td>\n",
       "      <td>0</td>\n",
       "    </tr>\n",
       "    <tr>\n",
       "      <th>1</th>\n",
       "      <td>2</td>\n",
       "      <td>47926.03548</td>\n",
       "      <td>Retired</td>\n",
       "      <td>684</td>\n",
       "      <td>0.196757</td>\n",
       "      <td>22258.352220</td>\n",
       "      <td>67</td>\n",
       "      <td>High School</td>\n",
       "      <td>Single</td>\n",
       "      <td>9</td>\n",
       "      <td>...</td>\n",
       "      <td>Auto</td>\n",
       "      <td>49794.316020</td>\n",
       "      <td>10.627914</td>\n",
       "      <td>146</td>\n",
       "      <td>41744.822520</td>\n",
       "      <td>0.738939</td>\n",
       "      <td>Monthly</td>\n",
       "      <td>26337.48749</td>\n",
       "      <td>4</td>\n",
       "      <td>0</td>\n",
       "    </tr>\n",
       "    <tr>\n",
       "      <th>2</th>\n",
       "      <td>3</td>\n",
       "      <td>59715.32807</td>\n",
       "      <td>Employed</td>\n",
       "      <td>734</td>\n",
       "      <td>0.300241</td>\n",
       "      <td>9055.870925</td>\n",
       "      <td>60</td>\n",
       "      <td>Master's</td>\n",
       "      <td>Married</td>\n",
       "      <td>8</td>\n",
       "      <td>...</td>\n",
       "      <td>Business</td>\n",
       "      <td>15151.688530</td>\n",
       "      <td>10.978312</td>\n",
       "      <td>243</td>\n",
       "      <td>84295.519990</td>\n",
       "      <td>0.714941</td>\n",
       "      <td>Quarterly</td>\n",
       "      <td>26891.89116</td>\n",
       "      <td>3</td>\n",
       "      <td>0</td>\n",
       "    </tr>\n",
       "    <tr>\n",
       "      <th>3</th>\n",
       "      <td>4</td>\n",
       "      <td>72845.44785</td>\n",
       "      <td>Retired</td>\n",
       "      <td>707</td>\n",
       "      <td>0.371848</td>\n",
       "      <td>6712.570653</td>\n",
       "      <td>46</td>\n",
       "      <td>High School</td>\n",
       "      <td>Single</td>\n",
       "      <td>0</td>\n",
       "      <td>...</td>\n",
       "      <td>Auto</td>\n",
       "      <td>8314.132621</td>\n",
       "      <td>11.232058</td>\n",
       "      <td>50</td>\n",
       "      <td>23385.045030</td>\n",
       "      <td>0.505514</td>\n",
       "      <td>Quarterly</td>\n",
       "      <td>39035.89979</td>\n",
       "      <td>0</td>\n",
       "      <td>0</td>\n",
       "    </tr>\n",
       "    <tr>\n",
       "      <th>4</th>\n",
       "      <td>5</td>\n",
       "      <td>46487.69938</td>\n",
       "      <td>Self-employed</td>\n",
       "      <td>782</td>\n",
       "      <td>0.130496</td>\n",
       "      <td>27788.088420</td>\n",
       "      <td>38</td>\n",
       "      <td>PhD</td>\n",
       "      <td>Married</td>\n",
       "      <td>8</td>\n",
       "      <td>...</td>\n",
       "      <td>Personal</td>\n",
       "      <td>12808.816640</td>\n",
       "      <td>11.334358</td>\n",
       "      <td>302</td>\n",
       "      <td>1069.232688</td>\n",
       "      <td>0.963279</td>\n",
       "      <td>Monthly</td>\n",
       "      <td>15734.44869</td>\n",
       "      <td>4</td>\n",
       "      <td>0</td>\n",
       "    </tr>\n",
       "  </tbody>\n",
       "</table>\n",
       "<p>5 rows × 22 columns</p>\n",
       "</div>"
      ],
      "text/plain": [
       "   borrower_id       income employment_status  credit_score  \\\n",
       "0            1  57450.71230     Self-employed           342   \n",
       "1            2  47926.03548           Retired           684   \n",
       "2            3  59715.32807          Employed           734   \n",
       "3            4  72845.44785           Retired           707   \n",
       "4            5  46487.69938     Self-employed           782   \n",
       "\n",
       "   debt_to_income_ratio  loan_amount_requested  age education_level  \\\n",
       "0              0.311864           30208.015810   69      Bachelor's   \n",
       "1              0.196757           22258.352220   67     High School   \n",
       "2              0.300241            9055.870925   60        Master's   \n",
       "3              0.371848            6712.570653   46     High School   \n",
       "4              0.130496           27788.088420   38             PhD   \n",
       "\n",
       "  marital_status  num_of_credit_inquiries  ...  loan_type   loan_amount  \\\n",
       "0       Divorced                        7  ...       Auto   4380.510427   \n",
       "1         Single                        9  ...       Auto  49794.316020   \n",
       "2        Married                        8  ...   Business  15151.688530   \n",
       "3         Single                        0  ...       Auto   8314.132621   \n",
       "4        Married                        8  ...   Personal  12808.816640   \n",
       "\n",
       "  interest_rate  loan_term  collateral_value  loan_to_value_ratio  \\\n",
       "0      3.038261        284      47643.939280             0.889981   \n",
       "1     10.627914        146      41744.822520             0.738939   \n",
       "2     10.978312        243      84295.519990             0.714941   \n",
       "3     11.232058         50      23385.045030             0.505514   \n",
       "4     11.334358        302       1069.232688             0.963279   \n",
       "\n",
       "   repayment_schedule  current_balance num_of_late_payments  loan_default  \n",
       "0           Quarterly      46676.21564                    3             0  \n",
       "1             Monthly      26337.48749                    4             0  \n",
       "2           Quarterly      26891.89116                    3             0  \n",
       "3           Quarterly      39035.89979                    0             0  \n",
       "4             Monthly      15734.44869                    4             0  \n",
       "\n",
       "[5 rows x 22 columns]"
      ]
     },
     "execution_count": 3,
     "metadata": {},
     "output_type": "execute_result"
    }
   ],
   "source": [
    "df.head()"
   ]
  },
  {
   "cell_type": "code",
   "execution_count": 4,
   "id": "5fcba4b7-ccda-43d8-9239-2a46d56908f8",
   "metadata": {},
   "outputs": [],
   "source": [
    "# Fill missing values for numerical variables with the mean\n",
    "df.fillna(df.select_dtypes(include='number').mean(), inplace=True)\n",
    "\n",
    "# Fill missing values for categorical variables with the mode\n",
    "for column in df.select_dtypes(include='object').columns:\n",
    "    df[column].fillna(df[column].mode()[0], inplace=True)"
   ]
  },
  {
   "cell_type": "code",
   "execution_count": 5,
   "id": "aa004ea7-5b2f-4c47-85c2-50f6981cdce4",
   "metadata": {},
   "outputs": [
    {
     "name": "stdout",
     "output_type": "stream",
     "text": [
      "Categorical Columns: Index(['employment_status', 'education_level', 'marital_status', 'loan_type',\n",
      "       'repayment_schedule'],\n",
      "      dtype='object')\n"
     ]
    }
   ],
   "source": [
    "# Step 1: Check for categorical columns\n",
    "categorical_cols = df.select_dtypes(include=['object', 'category']).columns\n",
    "print(f\"Categorical Columns: {categorical_cols}\")\n",
    "\n",
    "# Step 2: Label Encoding for columns with ordinal relationship or a small number of categories\n",
    "# You can select specific columns for label encoding\n",
    "label_enc = LabelEncoder()\n",
    "\n",
    "# Apply label encoding to all categorical columns (if appropriate)\n",
    "for col in categorical_cols:\n",
    "    df[col] = label_enc.fit_transform(df[col])\n",
    "\n",
    "# Step 3: One-Hot Encoding for categorical columns without an ordinal relationship\n",
    "# This method is usually preferred for columns with no natural ordering\n",
    "\n",
    "# Convert the categorical columns to one-hot encoding\n",
    "data_encoded = pd.get_dummies(df, columns=categorical_cols, drop_first=True)"
   ]
  },
  {
   "cell_type": "code",
   "execution_count": 6,
   "id": "b10295cf-4ebd-4ff8-b657-5cfb304f20a0",
   "metadata": {},
   "outputs": [],
   "source": [
    "# Features and target\n",
    "X = df.drop(columns=[\"borrower_id\", \"loan_id\", \"loan_default\"])  # Drop ID columns and the target column\n",
    "y = df[\"loan_default\"]"
   ]
  },
  {
   "cell_type": "code",
   "execution_count": 7,
   "id": "a655b974-3776-4f5c-98e5-74c7f07d2fbb",
   "metadata": {},
   "outputs": [],
   "source": [
    "# Standardize the dataset for models like SVM, KNN\n",
    "scaler = StandardScaler()\n",
    "X_scaled = scaler.fit_transform(X)"
   ]
  },
  {
   "cell_type": "code",
   "execution_count": 8,
   "id": "489436e5-918c-4cd7-a146-523e74d89d7d",
   "metadata": {},
   "outputs": [],
   "source": [
    "# Split data into training and testing sets\n",
    "X_train, X_test, y_train, y_test = train_test_split(X_scaled, y, test_size=0.3, random_state=42)"
   ]
  },
  {
   "cell_type": "code",
   "execution_count": 9,
   "id": "34ccefa1-6c4b-4002-a91c-b68e135efb85",
   "metadata": {},
   "outputs": [
    {
     "name": "stdout",
     "output_type": "stream",
     "text": [
      "Logistic Regression ROC-AUC: 0.547597995873858\n"
     ]
    }
   ],
   "source": [
    "# Step 2: Train and Evaluate 5 Models\n",
    "\n",
    "# 1. Logistic Regression\n",
    "log_reg = LogisticRegression()\n",
    "log_reg.fit(X_train, y_train)\n",
    "y_pred_log = log_reg.predict(X_test)\n",
    "log_reg_auc = roc_auc_score(y_test, log_reg.predict_proba(X_test)[:, 1])\n",
    "print(f\"Logistic Regression ROC-AUC: {log_reg_auc}\")"
   ]
  },
  {
   "cell_type": "code",
   "execution_count": 10,
   "id": "2a63fc9c-6731-4717-ab12-714c9a615198",
   "metadata": {},
   "outputs": [
    {
     "name": "stdout",
     "output_type": "stream",
     "text": [
      "Random Forest ROC-AUC: 0.5009824147755182\n"
     ]
    }
   ],
   "source": [
    "# 2. Random Forest Classifier\n",
    "rf_clf = RandomForestClassifier(n_estimators=100, random_state=42)\n",
    "rf_clf.fit(X_train, y_train)\n",
    "y_pred_rf = rf_clf.predict(X_test)\n",
    "rf_clf_auc = roc_auc_score(y_test, rf_clf.predict_proba(X_test)[:, 1])\n",
    "print(f\"Random Forest ROC-AUC: {rf_clf_auc}\")"
   ]
  },
  {
   "cell_type": "code",
   "execution_count": 11,
   "id": "4d5ea690-d520-4c6e-ace0-4520df851733",
   "metadata": {},
   "outputs": [
    {
     "name": "stdout",
     "output_type": "stream",
     "text": [
      "Gradient Boosting ROC-AUC: 0.4934669417428038\n"
     ]
    }
   ],
   "source": [
    "# 3. Gradient Boosting Classifier\n",
    "gb_clf = GradientBoostingClassifier(random_state=42)\n",
    "gb_clf.fit(X_train, y_train)\n",
    "y_pred_gb = gb_clf.predict(X_test)\n",
    "gb_clf_auc = roc_auc_score(y_test, gb_clf.predict_proba(X_test)[:, 1])\n",
    "print(f\"Gradient Boosting ROC-AUC: {gb_clf_auc}\")"
   ]
  },
  {
   "cell_type": "code",
   "execution_count": 12,
   "id": "a212ccc3-937f-4906-865d-b1bdc836140a",
   "metadata": {},
   "outputs": [
    {
     "name": "stdout",
     "output_type": "stream",
     "text": [
      "SVM ROC-AUC: 0.4899302485509382\n"
     ]
    }
   ],
   "source": [
    "# 4. Support Vector Classifier\n",
    "svc_clf = SVC(probability=True, random_state=42)\n",
    "svc_clf.fit(X_train, y_train)\n",
    "y_pred_svc = svc_clf.predict(X_test)\n",
    "svc_clf_auc = roc_auc_score(y_test, svc_clf.predict_proba(X_test)[:, 1])\n",
    "print(f\"SVM ROC-AUC: {svc_clf_auc}\")"
   ]
  },
  {
   "cell_type": "code",
   "execution_count": 13,
   "id": "6cd98d51-847e-432e-8911-3a60f188e4b2",
   "metadata": {},
   "outputs": [
    {
     "name": "stdout",
     "output_type": "stream",
     "text": [
      "KNN ROC-AUC: 0.4720011788977305\n"
     ]
    }
   ],
   "source": [
    "# 5. K-Nearest Neighbors Classifier\n",
    "knn_clf = KNeighborsClassifier(n_neighbors=5)\n",
    "knn_clf.fit(X_train, y_train)\n",
    "y_pred_knn = knn_clf.predict(X_test)\n",
    "knn_clf_auc = roc_auc_score(y_test, knn_clf.predict_proba(X_test)[:, 1])\n",
    "print(f\"KNN ROC-AUC: {knn_clf_auc}\")"
   ]
  },
  {
   "cell_type": "code",
   "execution_count": 14,
   "id": "44d18ec0-0358-4aa5-a52c-388e369642e7",
   "metadata": {},
   "outputs": [
    {
     "name": "stdout",
     "output_type": "stream",
     "text": [
      "\n",
      "Best Model: Logistic Regression with ROC-AUC: 0.547597995873858\n"
     ]
    }
   ],
   "source": [
    "# Step 3: Model Selection based on ROC-AUC\n",
    "model_scores = {\n",
    "    \"Logistic Regression\": log_reg_auc,\n",
    "    \"Random Forest\": rf_clf_auc,\n",
    "    \"Gradient Boosting\": gb_clf_auc,\n",
    "    \"SVM\": svc_clf_auc,\n",
    "    \"KNN\": knn_clf_auc\n",
    "}\n",
    "\n",
    "best_model_name = max(model_scores, key=model_scores.get)\n",
    "best_model_score = model_scores[best_model_name]\n",
    "\n",
    "print(f\"\\nBest Model: {best_model_name} with ROC-AUC: {best_model_score}\")"
   ]
  },
  {
   "cell_type": "code",
   "execution_count": 15,
   "id": "03e9a0dd-84c4-4d9f-9009-f54b12dac8e1",
   "metadata": {},
   "outputs": [
    {
     "name": "stdout",
     "output_type": "stream",
     "text": [
      "Final Predictions: [0 0 0 0 0 0 0 0 0 0 0 0 0 0 0 0 0 0 0 0 0 0 0 0 0 0 0 0 0 0 0 0 0 0 0 0 0\n",
      " 0 0 0 0 0 0 0 0 0 0 0 0 0 0 0 0 0 0 0 0 0 0 0 0 0 0 0 0 0 0 0 0 0 0 0 0 0\n",
      " 0 0 0 0 0 0 0 0 0 0 0 0 0 0 0 0 0 0 0 0 0 0 0 0 0 0 0 0 0 0 0 0 0 0 0 0 0\n",
      " 0 0 0 0 0 0 0 0 0 0 0 0 0 0 0 0 0 0 0 0 0 0 0 0 0 0 0 0 0 0 0 0 0 0 0 0 0\n",
      " 0 0 0 0 0 0 0 0 0 0 0 0 0 0 0 0 0 0 0 0 0 0 0 0 0 0 0 0 0 0 0 0 0 0 0 0 0\n",
      " 0 0 0 0 0 0 0 0 0 0 0 0 0 0 0 0 0 0 0 0 0 0 0 0 0 0 0 0 0 0 0 0 0 0 0 0 0\n",
      " 0 0 0 0 0 0 0 0 0 0 0 0 0 0 0 0 0 0 0 0 0 0 0 0 0 0 0 0 0 0 0 0 0 0 0 0 0\n",
      " 0 0 0 0 0 0 0 0 0 0 0 0 0 0 0 0 0 0 0 0 0 0 0 0 0 0 0 0 0 0 0 0 0 0 0 0 0\n",
      " 0 0 0 0]\n"
     ]
    }
   ],
   "source": [
    "# Step 4: Use the Best Model for Final Predictions\n",
    "if best_model_name == \"Logistic Regression\":\n",
    "    best_model = log_reg\n",
    "elif best_model_name == \"Random Forest\":\n",
    "    best_model = rf_clf\n",
    "elif best_model_name == \"Gradient Boosting\":\n",
    "    best_model = gb_clf\n",
    "elif best_model_name == \"SVM\":\n",
    "    best_model = svc_clf\n",
    "elif best_model_name == \"KNN\":\n",
    "    best_model = knn_clf\n",
    "\n",
    "# Final Prediction on Test Data using the Best Model\n",
    "final_predictions = best_model.predict(X_test)\n",
    "\n",
    "# Print final predictions\n",
    "print(\"Final Predictions:\", final_predictions)"
   ]
  },
  {
   "cell_type": "code",
   "execution_count": 16,
   "id": "eab3d776-7291-458b-b2aa-3d16ba03a01b",
   "metadata": {},
   "outputs": [],
   "source": [
    "# Step 1: Create a directory to store the model if it doesn't exist\n",
    "model_directory = \"model\"\n",
    "if not os.path.exists(model_directory):\n",
    "    os.makedirs(model_directory)"
   ]
  },
  {
   "cell_type": "code",
   "execution_count": 17,
   "id": "965fb6e9-9c94-4360-98f5-5d460b582dd6",
   "metadata": {},
   "outputs": [
    {
     "name": "stdout",
     "output_type": "stream",
     "text": [
      "Best model saved to: model\\default_probability_model.pkl\n"
     ]
    }
   ],
   "source": [
    "# Step 2: Save the best model to the folder\n",
    "model_file_path = os.path.join(model_directory, \"default_probability_model.pkl\")\n",
    "joblib.dump(best_model, model_file_path)\n",
    "print(f\"Best model saved to: {model_file_path}\")"
   ]
  },
  {
   "cell_type": "code",
   "execution_count": null,
   "id": "d992da3f-21e2-41ff-8bc8-dab6832ef354",
   "metadata": {},
   "outputs": [],
   "source": []
  }
 ],
 "metadata": {
  "kernelspec": {
   "display_name": "Python 3 (ipykernel)",
   "language": "python",
   "name": "python3"
  },
  "language_info": {
   "codemirror_mode": {
    "name": "ipython",
    "version": 3
   },
   "file_extension": ".py",
   "mimetype": "text/x-python",
   "name": "python",
   "nbconvert_exporter": "python",
   "pygments_lexer": "ipython3",
   "version": "3.11.7"
  }
 },
 "nbformat": 4,
 "nbformat_minor": 5
}
