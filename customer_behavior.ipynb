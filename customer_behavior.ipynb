{
 "cells": [
  {
   "cell_type": "code",
   "execution_count": 1,
   "id": "37b2cc0f-6058-46a6-b0af-114bf9383ee8",
   "metadata": {},
   "outputs": [],
   "source": [
    "import os\n",
    "import pandas as pd\n",
    "import numpy as np\n",
    "from sklearn.model_selection import train_test_split, cross_val_score\n",
    "from sklearn.preprocessing import LabelEncoder, StandardScaler\n",
    "from sklearn.ensemble import RandomForestClassifier\n",
    "from sklearn.linear_model import LogisticRegression\n",
    "from sklearn.neighbors import KNeighborsClassifier\n",
    "from sklearn.svm import SVC\n",
    "from sklearn.tree import DecisionTreeClassifier\n",
    "from sklearn.metrics import accuracy_score, f1_score\n",
    "from joblib import dump"
   ]
  },
  {
   "cell_type": "code",
   "execution_count": 5,
   "id": "a828e936-5857-4a32-88d9-a96cf76cd574",
   "metadata": {},
   "outputs": [],
   "source": [
    "# Step 1: Load the dataset (assuming it’s already preprocessed, else preprocessing can be done)\n",
    "# Load your dataset - replace with actual path or loaded DataFrame\n",
    "df = pd.read_csv('data/customer_segmentation.csv')"
   ]
  },
  {
   "cell_type": "code",
   "execution_count": 6,
   "id": "57e07397-b56c-4897-962d-d6ed2759e453",
   "metadata": {},
   "outputs": [],
   "source": [
    "# Step 2: Preprocessing\n",
    "# Encoding categorical variables\n",
    "label_encoders = {}\n",
    "categorical_cols = ['Gender', 'Income_Level', 'Occupation', 'Marital_Status', 'Education_Level',\n",
    "                    'Location', 'Policy_Type', 'Claim_History', 'Payment_Preferences',\n",
    "                    'Marketing_Engagement', 'Customer_Feedback', 'Risk_Appetite']\n",
    "\n",
    "for col in categorical_cols:\n",
    "    le = LabelEncoder()\n",
    "    df[col] = le.fit_transform(df[col])\n",
    "    label_encoders[col] = le"
   ]
  },
  {
   "cell_type": "code",
   "execution_count": 7,
   "id": "c40b66fc-16d2-4b83-82b2-7f58352ff41c",
   "metadata": {},
   "outputs": [],
   "source": [
    "# Define the target variable: Renewal_Behavior (replace with the correct column if necessary)\n",
    "X = df.drop(['Renewal_Behavior'], axis=1)\n",
    "y = df['Renewal_Behavior']"
   ]
  },
  {
   "cell_type": "code",
   "execution_count": 8,
   "id": "f66daafa-b45f-432c-9b65-a2d0e897a68f",
   "metadata": {},
   "outputs": [],
   "source": [
    "# Convert target into binary if necessary (e.g., Early, On Time = 1; Late = 0)\n",
    "le_target = LabelEncoder()\n",
    "y = le_target.fit_transform(y)"
   ]
  },
  {
   "cell_type": "code",
   "execution_count": 9,
   "id": "9624dc98-05a8-40d1-bb3c-592eebb07ea1",
   "metadata": {},
   "outputs": [],
   "source": [
    "# Step 3: Split the dataset into train and test\n",
    "X_train, X_test, y_train, y_test = train_test_split(X, y, test_size=0.2, random_state=42)"
   ]
  },
  {
   "cell_type": "code",
   "execution_count": 10,
   "id": "7fa059e4-d09f-44d4-b43a-b10537a92481",
   "metadata": {},
   "outputs": [],
   "source": [
    "# Step 4: Scaling the features\n",
    "scaler = StandardScaler()\n",
    "X_train_scaled = scaler.fit_transform(X_train)\n",
    "X_test_scaled = scaler.transform(X_test)"
   ]
  },
  {
   "cell_type": "code",
   "execution_count": 11,
   "id": "2911bfb1-7cbc-4975-9da9-daeb7400aa8b",
   "metadata": {},
   "outputs": [],
   "source": [
    "# Step 5: Train five models\n",
    "models = {\n",
    "    \"RandomForest\": RandomForestClassifier(random_state=42),\n",
    "    \"LogisticRegression\": LogisticRegression(max_iter=1000, random_state=42),\n",
    "    \"KNeighbors\": KNeighborsClassifier(),\n",
    "    \"SVC\": SVC(probability=True, random_state=42),\n",
    "    \"DecisionTree\": DecisionTreeClassifier(random_state=42)\n",
    "}"
   ]
  },
  {
   "cell_type": "code",
   "execution_count": 12,
   "id": "e6a69be1-baf9-485f-a1aa-169248a75901",
   "metadata": {},
   "outputs": [
    {
     "name": "stdout",
     "output_type": "stream",
     "text": [
      "RandomForest - Accuracy: 0.3130, F1 Score: 0.3126\n",
      "LogisticRegression - Accuracy: 0.3250, F1 Score: 0.3189\n",
      "KNeighbors - Accuracy: 0.3350, F1 Score: 0.3286\n",
      "SVC - Accuracy: 0.3380, F1 Score: 0.3355\n",
      "DecisionTree - Accuracy: 0.3410, F1 Score: 0.3412\n"
     ]
    }
   ],
   "source": [
    "model_scores = {}\n",
    "\n",
    "for name, model in models.items():\n",
    "    model.fit(X_train_scaled, y_train)\n",
    "    y_pred = model.predict(X_test_scaled)\n",
    "    accuracy = accuracy_score(y_test, y_pred)\n",
    "    f1 = f1_score(y_test, y_pred, average='weighted')\n",
    "    \n",
    "    # Save model scores\n",
    "    model_scores[name] = {'accuracy': accuracy, 'f1_score': f1}\n",
    "    print(f\"{name} - Accuracy: {accuracy:.4f}, F1 Score: {f1:.4f}\")"
   ]
  },
  {
   "cell_type": "code",
   "execution_count": 13,
   "id": "a6a07c26-78e1-4333-adde-56983aea7197",
   "metadata": {},
   "outputs": [
    {
     "name": "stdout",
     "output_type": "stream",
     "text": [
      "\n",
      "Best Model: DecisionTree with F1 Score: 0.3412\n"
     ]
    }
   ],
   "source": [
    "# Step 6: Select the best model based on F1 score or accuracy\n",
    "best_model_name = max(model_scores, key=lambda name: model_scores[name]['f1_score'])\n",
    "best_model = models[best_model_name]\n",
    "print(f\"\\nBest Model: {best_model_name} with F1 Score: {model_scores[best_model_name]['f1_score']:.4f}\")"
   ]
  },
  {
   "cell_type": "code",
   "execution_count": 16,
   "id": "dc721a03-41d4-4862-aa60-4ee505b125c4",
   "metadata": {},
   "outputs": [
    {
     "name": "stdout",
     "output_type": "stream",
     "text": [
      "Best model saved to model/DecisionTree.joblib\n"
     ]
    }
   ],
   "source": [
    "# Step 7: Save the best model to the 'models' folder\n",
    "model_path = f\"model/{best_model_name}.joblib\"\n",
    "dump(best_model, model_path)\n",
    "print(f\"Best model saved to {model_path}\")"
   ]
  },
  {
   "cell_type": "code",
   "execution_count": null,
   "id": "21538dca-d60b-4691-98eb-342c4a11d2fc",
   "metadata": {},
   "outputs": [],
   "source": []
  }
 ],
 "metadata": {
  "kernelspec": {
   "display_name": "Python 3 (ipykernel)",
   "language": "python",
   "name": "python3"
  },
  "language_info": {
   "codemirror_mode": {
    "name": "ipython",
    "version": 3
   },
   "file_extension": ".py",
   "mimetype": "text/x-python",
   "name": "python",
   "nbconvert_exporter": "python",
   "pygments_lexer": "ipython3",
   "version": "3.11.7"
  }
 },
 "nbformat": 4,
 "nbformat_minor": 5
}
